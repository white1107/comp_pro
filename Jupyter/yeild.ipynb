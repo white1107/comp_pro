{
 "cells": [
  {
   "cell_type": "code",
   "execution_count": 5,
   "id": "0d080bf6-1108-448e-9a33-6036d85c0134",
   "metadata": {},
   "outputs": [
    {
     "name": "stdout",
     "output_type": "stream",
     "text": [
      "a\n",
      "a\n",
      "a\n",
      "a\n"
     ]
    }
   ],
   "source": [
    "def y(s):\n",
    "    for i in s:\n",
    "        if i == \"a\" : yield i\n",
    "for i in y('asdadfaadd'):\n",
    "    print(i)"
   ]
  },
  {
   "cell_type": "code",
   "execution_count": null,
   "id": "d60c00bf-45c0-441f-a4c3-74f84029d48c",
   "metadata": {},
   "outputs": [],
   "source": [
    "def y(s):\n",
    "    for i in s:\n",
    "        yield i\n",
    "for i in y('asdfblj'):\n"
   ]
  }
 ],
 "metadata": {
  "kernelspec": {
   "display_name": "Python 3 (ipykernel)",
   "language": "python",
   "name": "python3"
  },
  "language_info": {
   "codemirror_mode": {
    "name": "ipython",
    "version": 3
   },
   "file_extension": ".py",
   "mimetype": "text/x-python",
   "name": "python",
   "nbconvert_exporter": "python",
   "pygments_lexer": "ipython3",
   "version": "3.8.12"
  }
 },
 "nbformat": 4,
 "nbformat_minor": 5
}
