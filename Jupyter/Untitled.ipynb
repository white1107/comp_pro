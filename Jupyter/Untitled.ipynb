{
 "cells": [
  {
   "cell_type": "code",
   "execution_count": 3,
   "id": "c01fe0da-6c66-4e49-aea4-ab82cf8c99ae",
   "metadata": {},
   "outputs": [
    {
     "name": "stdout",
     "output_type": "stream",
     "text": [
      "[2, 3, 5, 7, 11, 13, 17, 19, 23, 29, 31, 37, 41, 43, 47, 53, 59, 61, 67, 71, 73, 79, 83, 89, 97]\n"
     ]
    }
   ],
   "source": [
    "\n",
    "\n",
    "# limit 以下の全ての素数を返す\n",
    "def list_primes(limit):\n",
    "    primes = []\n",
    "    for i in range(2, limit + 1):\n",
    "        is_prime = True\n",
    "        for p in primes:\n",
    "            if p * p > i:\n",
    "                break\n",
    "            elif i % p == 0:\n",
    "                is_prime = False\n",
    "                break\n",
    "        if is_prime:\n",
    "            primes.append(i)\n",
    "\n",
    "    return primes\n",
    "\n",
    "n = 100\n",
    "list_p = list_primes(n)\n",
    "\n",
    "a,b,c,d = "
   ]
  },
  {
   "cell_type": "code",
   "execution_count": null,
   "id": "38550a4a-968d-4399-a41e-0aa8148eff97",
   "metadata": {},
   "outputs": [],
   "source": [
    "\n",
    "\n",
    "\n",
    "n = \n",
    "l = \n",
    "tmp = \"\"\n",
    "ans = \"\"\n",
    "for e,(i,j) in enumerate(zip(l,l[1:])):\n",
    "    if j != i : \n",
    "        ans \n",
    "    if i==j and i==\"R\": tmp+=str(e)\n",
    "    elif i==j and i==\"L\":tmp+=str(e)\n",
    "    elif i==\"R\": ans += tmp;tmp = \"\"\n",
    "    else: ans = tmp+ans;tmp =\"\"\n",
    "    \n",
    "print(ans)"
   ]
  },
  {
   "cell_type": "code",
   "execution_count": 3,
   "id": "63f5c76a-8014-4c99-85c9-2a8d83b86423",
   "metadata": {},
   "outputs": [
    {
     "data": {
      "text/plain": [
       "1"
      ]
     },
     "execution_count": 3,
     "metadata": {},
     "output_type": "execute_result"
    }
   ],
   "source": [
    "from bisect import bisect_left\n",
    "a = [1,2,3,4,5,6,7,8,9]\n",
    "\n",
    "bisect_left(a,2)"
   ]
  },
  {
   "cell_type": "code",
   "execution_count": 6,
   "id": "01588f61-5210-4bdf-9b5c-b67953eb2b2e",
   "metadata": {},
   "outputs": [
    {
     "name": "stdout",
     "output_type": "stream",
     "text": [
      "1 0\n",
      "2 0\n",
      "0 1\n",
      "1 1\n",
      "2 1\n",
      "0 2\n",
      "1 2\n",
      "2 2\n",
      "0 3\n",
      "1 3\n"
     ]
    }
   ],
   "source": [
    "a = [1,2,3,4,5,6,7,8,9,10]\n",
    "\n",
    "def cal(a,k,C):\n",
    "    a = [0] + a\n",
    "    t = 0\n",
    "    count = 0\n",
    "    for e,i in enumerate(a[1:]):\n",
    "        t += i-a[e]\n",
    "        if t>k:count+=1;t=0\n",
    "    return count==K"
   ]
  },
  {
   "cell_type": "code",
   "execution_count": null,
   "id": "fffd266e-f1ff-498f-af95-b9ace34e7cd2",
   "metadata": {},
   "outputs": [],
   "source": []
  }
 ],
 "metadata": {
  "kernelspec": {
   "display_name": "Python 3 (ipykernel)",
   "language": "python",
   "name": "python3"
  },
  "language_info": {
   "codemirror_mode": {
    "name": "ipython",
    "version": 3
   },
   "file_extension": ".py",
   "mimetype": "text/x-python",
   "name": "python",
   "nbconvert_exporter": "python",
   "pygments_lexer": "ipython3",
   "version": "3.8.12"
  }
 },
 "nbformat": 4,
 "nbformat_minor": 5
}
