{
 "cells": [
  {
   "cell_type": "code",
   "execution_count": 3,
   "id": "c01fe0da-6c66-4e49-aea4-ab82cf8c99ae",
   "metadata": {},
   "outputs": [
    {
     "name": "stdout",
     "output_type": "stream",
     "text": [
      "[2, 3, 5, 7, 11, 13, 17, 19, 23, 29, 31, 37, 41, 43, 47, 53, 59, 61, 67, 71, 73, 79, 83, 89, 97]\n"
     ]
    }
   ],
   "source": [
    "\n",
    "\n",
    "# limit 以下の全ての素数を返す\n",
    "def list_primes(limit):\n",
    "    primes = []\n",
    "    for i in range(2, limit + 1):\n",
    "        is_prime = True\n",
    "        for p in primes:\n",
    "            if p * p > i:\n",
    "                break\n",
    "            elif i % p == 0:\n",
    "                is_prime = False\n",
    "                break\n",
    "        if is_prime:\n",
    "            primes.append(i)\n",
    "\n",
    "    return primes\n",
    "\n",
    "n = 100\n",
    "list_p = list_primes(n)\n",
    "\n",
    "a,b,c,d = "
   ]
  },
  {
   "cell_type": "code",
   "execution_count": null,
   "id": "38550a4a-968d-4399-a41e-0aa8148eff97",
   "metadata": {},
   "outputs": [],
   "source": []
  }
 ],
 "metadata": {
  "kernelspec": {
   "display_name": "Python 3",
   "language": "python",
   "name": "python3"
  },
  "language_info": {
   "codemirror_mode": {
    "name": "ipython",
    "version": 3
   },
   "file_extension": ".py",
   "mimetype": "text/x-python",
   "name": "python",
   "nbconvert_exporter": "python",
   "pygments_lexer": "ipython3",
   "version": "3.8.8"
  }
 },
 "nbformat": 4,
 "nbformat_minor": 5
}
